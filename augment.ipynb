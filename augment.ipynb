{
 "cells": [
  {
   "cell_type": "code",
   "execution_count": null,
   "id": "8b808d38",
   "metadata": {},
   "outputs": [],
   "source": [
    "import h5py\n",
    "import torch\n",
    "import matplotlib.pyplot as plt\n",
    "from Steerable.utils import Augment, rotate_image, HDF5, HDF5Dataset\n",
    "\n",
    "function = lambda data, degree : (rotate_image(data[0], degree, order=1),data[1])\n",
    "n_angle = 16\n",
    "parameters = 360 * torch.arange(n_angle) / n_angle\n",
    "\n",
    "datafile = h5py.File('../Data/RMNIST/data/RotMNIST.hdf5', 'r')\n",
    "valdataset, _ = torch.utils.data.random_split(HDF5(datafile, mode='val'), [100, 1900])\n",
    "aug_dataset = Augment(valdataset, function=function, parameters=parameters, batched=True)\n",
    "\n",
    "hdf5dataset = HDF5Dataset('../Data/RMNIST/data/AugRotMNIST.hdf5', overwrite=True)\n",
    "hdf5dataset.create_hdf5_dataset('val', aug_dataset, batched=True)"
   ]
  },
  {
   "cell_type": "code",
   "execution_count": 6,
   "id": "162b223e",
   "metadata": {},
   "outputs": [
    {
     "name": "stdout",
     "output_type": "stream",
     "text": [
      "1600\n"
     ]
    }
   ],
   "source": [
    "datafile = h5py.File('../Data/RMNIST/data/AugRotMNIST.hdf5', 'r')\n",
    "aug_dataset = HDF5(datafile, mode='val')\n",
    "print(len(aug_dataset))"
   ]
  },
  {
   "cell_type": "code",
   "execution_count": 12,
   "id": "46930771",
   "metadata": {},
   "outputs": [
    {
     "name": "stdout",
     "output_type": "stream",
     "text": [
      "1\n"
     ]
    },
    {
     "data": {
      "image/png": "[encoded data removed]",
      "text/plain": [
       "<Figure size 432x288 with 1 Axes>"
      ]
     },
     "metadata": {
      "needs_background": "light"
     },
     "output_type": "display_data"
    }
   ],
   "source": [
    "image, label = aug_dataset[16]\n",
    "print(label.item())\n",
    "plt.imshow(image[0])\n",
    "plt.show()"
   ]
  }
 ],
 "metadata": {
  "kernelspec": {
   "display_name": "base",
   "language": "python",
   "name": "python3"
  },
  "language_info": {
   "codemirror_mode": {
    "name": "ipython",
    "version": 3
   },
   "file_extension": ".py",
   "mimetype": "text/x-python",
   "name": "python",
   "nbconvert_exporter": "python",
   "pygments_lexer": "ipython3",
   "version": "3.9.12"
  }
 },
 "nbformat": 4,
 "nbformat_minor": 5
}
