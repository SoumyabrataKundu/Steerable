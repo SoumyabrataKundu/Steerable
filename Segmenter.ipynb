{
 "cells": [
  {
   "cell_type": "code",
   "execution_count": 1,
   "metadata": {},
   "outputs": [],
   "source": [
    "import torch\n",
    "import matplotlib.pyplot as plt\n",
    "\n",
    "import sys\n",
    "sys.path.append('../../Steerable/')\n",
    "import Steerable.nn as snn\n",
    "from Steerable.utils import FocalLoss, Metrics, rotate_image2D, rotate_image3D"
   ]
  },
  {
   "cell_type": "code",
   "execution_count": 2,
   "metadata": {},
   "outputs": [],
   "source": [
    "class Model2D(torch.nn.Module):\n",
    "    def __init__(self) -> None:\n",
    "        super(Model2D, self).__init__()\n",
    "        \n",
    "        self.num_classes = 2\n",
    "        n_angle = 1000\n",
    "        freq_cutoff = 4\n",
    "        self.convolution_stem = torch.nn.Sequential(\n",
    "            snn.SE2ConvType1(1,2,3, freq_cutoff, n_angle=n_angle, padding='same'),\n",
    "            snn.SE2NormNonLinearity(2, freq_cutoff),\n",
    "            snn.SE2BatchNorm(),\n",
    "            snn.SE2ConvType2(2,2,3, freq_cutoff, n_angle=n_angle, padding='same'),\n",
    "            snn.SE2BatchNorm(),\n",
    "            snn.SE2AvgPool(2)\n",
    "        )\n",
    "\n",
    "        self.encoder_decoder = torch.nn.Sequential(\n",
    "            snn.SE2TransformerEncoder(2, 1, freq_cutoff, 1, add_pos_enc=True),\n",
    "            snn.SE2TransformerDecoder(2, 1, freq_cutoff, self.num_classes, 1, add_pos_enc=True)\n",
    "        )\n",
    "        \n",
    "        self.head = torch.nn.Sequential(\n",
    "            snn.SE2ConvType2(2,2,3, freq_cutoff, n_angle=n_angle, padding='same'),\n",
    "            snn.SE2NormNonLinearity(2, freq_cutoff),\n",
    "            snn.SE2BatchNorm(),\n",
    "            snn.SE2ConvType2(2,2,3, freq_cutoff, n_angle=n_angle, padding='same'),\n",
    "            snn.SE2BatchNorm(),\n",
    "        )\n",
    "        \n",
    "        self.embed = snn.SE2ClassEmbeddings(2, 2, freq_cutoff)   \n",
    "        \n",
    "        \n",
    "    def forward(self, x):\n",
    "        x_shape = x.shape\n",
    "        x = x.type(torch.cfloat)\n",
    "        \n",
    "        x = self.convolution_stem(x)         \n",
    "        x, classes = self.encoder_decoder(x)\n",
    "\n",
    "        # Interpolation\n",
    "        x = torch.nn.functional.interpolate(x.real, size=(x.shape[-3], *x_shape[-2:]), mode=\"trilinear\") + \\\n",
    "            1j*torch.nn.functional.interpolate(x.imag, size=(x.shape[-3], *x_shape[-2:]), mode=\"trilinear\")\n",
    "        \n",
    "        x = self.embed(x, classes).abs()\n",
    "        \n",
    "        return x\n",
    "\n",
    "\n",
    "device = torch.device('cuda') if torch.cuda.is_available() else torch.device('cpu')\n",
    "model2D = Model2D().to(device)\n",
    "criterion = FocalLoss()\n",
    "metrics = Metrics(model2D.num_classes)"
   ]
  },
  {
   "cell_type": "code",
   "execution_count": 3,
   "metadata": {},
   "outputs": [
    {
     "name": "stdout",
     "output_type": "stream",
     "text": [
      "8.940696716308594e-08\n",
      "0.0\n"
     ]
    },
    {
     "data": {
      "image/png": "[encoded data removed]",
      "text/plain": [
       "<Figure size 576x576 with 4 Axes>"
      ]
     },
     "metadata": {
      "needs_background": "light"
     },
     "output_type": "display_data"
    }
   ],
   "source": [
    "res = 10\n",
    "batch_size = 1\n",
    "\n",
    "with torch.no_grad():\n",
    "    inputs = torch.randn(batch_size, 1, *[res]*2, device=device)\n",
    "    targets = torch.randint(0, model2D.num_classes, (batch_size, *[res]*2), device=device)\n",
    "    outputs = model2D(inputs)\n",
    "    loss = criterion(outputs, targets).item()\n",
    "    preds = torch.argmax(outputs, dim=1)\n",
    "    dice = metrics.micro(preds, targets)\n",
    "\n",
    "    inputs_rot = rotate_image2D(inputs.cpu(), 90).to(device)\n",
    "    targets_rot = rotate_image2D(targets.unsqueeze(1).cpu(), 90, order=0).squeeze(1).to(device)\n",
    "        \n",
    "    outputs_rot = model2D(inputs_rot)\n",
    "    loss_rot = criterion(outputs_rot, targets_rot).item()\n",
    "    preds_rot = torch.argmax(outputs_rot, dim=1)\n",
    "    dice_rot = metrics.micro(preds_rot, targets_rot)\n",
    "\n",
    "    print(abs(loss - loss_rot))\n",
    "    print(abs(dice - dice_rot))\n",
    "    \n",
    "    fig, ax = plt.subplots(2,2)\n",
    "    fig.set_size_inches(8,8)\n",
    "    ax[0,0].imshow(targets[0].cpu())\n",
    "    ax[0,1].imshow(targets_rot[0].cpu())\n",
    "    ax[1,0].imshow(preds[0].cpu())\n",
    "    ax[1,1].imshow(preds_rot[0].cpu())\n",
    "\n",
    "    plt.show()"
   ]
  },
  {
   "cell_type": "code",
   "execution_count": 10,
   "metadata": {},
   "outputs": [
    {
     "data": {
      "text/plain": [
       "tensor(0., device='cuda:0', grad_fn=<MaxBackward1>)"
      ]
     },
     "execution_count": 10,
     "metadata": {},
     "output_type": "execute_result"
    }
   ],
   "source": [
    "a = torch.randn(1,1,10,10, device=device)\n",
    "b = model2D(a)\n",
    "torch.save(model2D.state_dict(), \"state.pkl\")\n",
    "model2D = Model2D().to(device)\n",
    "model2D(a)\n",
    "model2D.load_state_dict(torch.load('state.pkl'))\n",
    "c = model2D(a)\n",
    "\n",
    "(b-c).abs().max()"
   ]
  },
  {
   "cell_type": "code",
   "execution_count": 19,
   "metadata": {},
   "outputs": [
    {
     "data": {
      "text/plain": [
       "[<matplotlib.lines.Line2D at 0x7f7c04244700>]"
      ]
     },
     "execution_count": 19,
     "metadata": {},
     "output_type": "execute_result"
    },
    {
     "data": {
      "image/png": "[encoded data removed]",
      "text/plain": [
       "<Figure size 432x288 with 1 Axes>"
      ]
     },
     "metadata": {
      "needs_background": "light"
     },
     "output_type": "display_data"
    }
   ],
   "source": [
    "res = 10\n",
    "batch_size = 10\n",
    "model = Model2D().to(device)\n",
    "degrees = torch.arange(0, 350, 10)\n",
    "diff = torch.zeros_like(degrees)\n",
    "with torch.no_grad():\n",
    "    inputs = torch.randn(batch_size, 1, *[res]*2, device=device)\n",
    "    outputs = model(inputs).cpu()\n",
    "    for i, degree in enumerate(degrees):\n",
    "        inputs_rot = rotate_image2D(inputs.cpu(), degree).to(device)\n",
    "        outputs_rot = model(inputs_rot).flatten(1).cpu()\n",
    "        rot_outputs = rotate_image2D(outputs, degree).flatten(1)\n",
    "        diff[i] = torch.max(torch.abs(rot_outputs - outputs_rot), dim=1)[0].mean()\n",
    "        \n",
    "plt.plot(degrees, diff)"
   ]
  },
  {
   "cell_type": "code",
   "execution_count": 4,
   "metadata": {},
   "outputs": [],
   "source": [
    "class Model3D(torch.nn.Module):\n",
    "    def __init__(self) -> None:\n",
    "        super(Model3D, self).__init__()\n",
    "        \n",
    "        self.num_classes = 2\n",
    "        n_angle = 40\n",
    "        self.convolution_stem = torch.nn.Sequential(\n",
    "            snn.SE3Conv(1,[2,2],3, n_angle=n_angle, padding='same'),\n",
    "            snn.SE3NormNonLinearity([2,2]),\n",
    "            snn.SE3BatchNorm(),\n",
    "            snn.SE3Conv([2,2], [2,2],3, n_angle=n_angle, padding='same'),\n",
    "            snn.SE3BatchNorm(),\n",
    "            snn.SE3AvgPool(2)\n",
    "        )\n",
    "\n",
    "        self.encoder_decoder = torch.nn.Sequential(\n",
    "            snn.SE3TransformerEncoder([2,2], 1, 1, add_pos_enc=True),\n",
    "            snn.SE3TransformerDecoder([2,2], 1, self.num_classes, 1, add_pos_enc=True)\n",
    "        )\n",
    "        \n",
    "        self.head = torch.nn.Sequential(\n",
    "            snn.SE3Conv([2,2],[2,2],3, n_angle=n_angle, padding='same'),\n",
    "            snn.SE3NormNonLinearity([2,2]),\n",
    "            snn.SE3BatchNorm(),\n",
    "            snn.SE3Conv([2,2],[2,2],3, n_angle=n_angle, padding='same'),\n",
    "            snn.SE3BatchNorm(),\n",
    "        )\n",
    "        \n",
    "        self.embed = snn.SE3ClassEmbedings([2,2], [2,2])   \n",
    "        \n",
    "        \n",
    "    def forward(self, x):\n",
    "        x_shape = x.shape\n",
    "        x = x.type(torch.cfloat)\n",
    "        \n",
    "        x = self.convolution_stem(x)         \n",
    "        x, classes = self.encoder_decoder(x)\n",
    "\n",
    "        # Interpolation\n",
    "        x, channels = snn.merge_channel_dim(x)\n",
    "        x = torch.nn.functional.interpolate(x.real, size=x_shape[-3:], mode=\"trilinear\") + \\\n",
    "                  1j * torch.nn.functional.interpolate(x.imag, size=x_shape[-3:], mode=\"trilinear\")\n",
    "        x = snn.split_channel_dim(x, channels=channels)\n",
    "        \n",
    "        x = self.embed(x, classes).abs()\n",
    "        \n",
    "        return x\n",
    "\n",
    "\n",
    "device = torch.device('cuda') if torch.cuda.is_available() else torch.device('cpu')\n",
    "model3D = Model3D().to(device)\n",
    "criterion = FocalLoss()\n",
    "metrics = Metrics(model3D.num_classes)"
   ]
  },
  {
   "cell_type": "code",
   "execution_count": 5,
   "metadata": {},
   "outputs": [
    {
     "name": "stdout",
     "output_type": "stream",
     "text": [
      "1.4901161193847656e-08\n",
      "0.0\n"
     ]
    }
   ],
   "source": [
    "res = 10\n",
    "batch_size = 1\n",
    "\n",
    "with torch.no_grad():\n",
    "    inputs = torch.randn(batch_size, 1, *[res]*3, device=device)\n",
    "    targets = torch.randint(0, model3D.num_classes, (batch_size, *[res]*3), device=device)\n",
    "    outputs = model3D(inputs)\n",
    "    \n",
    "    loss = criterion(outputs, targets).item()\n",
    "    preds = torch.argmax(outputs, dim=1)\n",
    "    dice = metrics.micro(preds, targets)\n",
    "\n",
    "    inputs_rot = rotate_image3D(inputs.cpu(), [90,0,90]).to(device)\n",
    "    targets_rot = rotate_image3D(targets.unsqueeze(1).cpu(), [90,0,90], order=0).squeeze(1).to(device)\n",
    "    outputs_rot = model3D(inputs_rot)\n",
    "    \n",
    "    loss_rot = criterion(outputs_rot, targets_rot).item()\n",
    "    preds_rot = torch.argmax(outputs_rot, dim=1)\n",
    "    dice_rot = metrics.micro(preds_rot, targets_rot)\n",
    "\n",
    "    print(abs(loss - loss_rot))\n",
    "    print(abs(dice - dice_rot))"
   ]
  }
 ],
 "metadata": {
  "kernelspec": {
   "display_name": "base",
   "language": "python",
   "name": "python3"
  },
  "language_info": {
   "codemirror_mode": {
    "name": "ipython",
    "version": 3
   },
   "file_extension": ".py",
   "mimetype": "text/x-python",
   "name": "python",
   "nbconvert_exporter": "python",
   "pygments_lexer": "ipython3",
   "version": "3.9.12"
  }
 },
 "nbformat": 4,
 "nbformat_minor": 2
}
