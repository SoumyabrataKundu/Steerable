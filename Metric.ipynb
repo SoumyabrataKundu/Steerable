{
 "cells": [
  {
   "cell_type": "code",
   "execution_count": 1,
   "id": "2be63639",
   "metadata": {},
   "outputs": [],
   "source": [
    "import torch"
   ]
  },
  {
   "cell_type": "code",
   "execution_count": 29,
   "id": "0c952488",
   "metadata": {},
   "outputs": [],
   "source": [
    "class Metrics:\n",
    "    def __init__(self, num_classes, metric='dice'):\n",
    "        if num_classes<0:\n",
    "            raise ValueError(f\"num_classes {num_classes} must be an integer greated than 0.\")\n",
    "        if metric not in ['dice', 'iou', 'accuracy']:\n",
    "            raise ValueError(f\"metric ({metric}) must be one of 'dice', 'iou' or 'accuracy'.\")\n",
    "        \n",
    "        self.num_classes = num_classes\n",
    "        self.metric = metric\n",
    "        self.confusion = torch.zeros(1, self.num_classes, self.num_classes, dtype=torch.int64)\n",
    "        \n",
    "        \n",
    "    ################## Confusion Matrix\n",
    "    def get_confusion_matrix(self, preds, targets):\n",
    "        if preds is None and targets is None:\n",
    "            return self.confusion\n",
    "        elif preds is not None and targets is not None:\n",
    "            if not preds.shape == targets.shape:\n",
    "                raise ValueError(f\"Size of prediction {list(preds.shape)} must match size of targets {list(targets.shape)}\")\n",
    "            \n",
    "            conf = torch.zeros(targets.shape[0], self.num_classes, self.num_classes, dtype=torch.int64)\n",
    "            for i in range(self.num_classes):\n",
    "                for j in range(self.num_classes):\n",
    "                    conf[:,i,j] = torch.logical_and(targets==i, preds==j).reshape(preds.shape[0], -1).sum(dim=-1)\n",
    "            return conf\n",
    "        else:\n",
    "            raise ValueError('Either both preds and targets should be given or none of them.')\n",
    "        \n",
    "    def add_to_confusion_matrix(self, preds, targets):\n",
    "        self.confusion += torch.sum(self.get_confusion_matrix(preds, targets), dim=0, keepdim=True)\n",
    "\n",
    "    ################## Metrics\n",
    "    def macro_per_class(self, preds=None, targets=None):\n",
    "        conf = self.get_confusion_matrix(preds, targets)\n",
    "        tp = torch.diagonal(conf, dim1=-2, dim2=-1)\n",
    "        fp = torch.sum(conf, dim=-1) - tp\n",
    "        fn = torch.sum(conf, dim=-2) - tp\n",
    "        \n",
    "        return torch.nan_to_num(self._get_score(tp,fp,fn), 1).mean(dim=0)\n",
    "\n",
    "    def macro(self, preds=None, targets=None):\n",
    "        return torch.mean(self.macro_per_class(preds, targets)[1:]).item()\n",
    "    \n",
    "    def micro_per_class(self, preds=None, targets=None):\n",
    "        conf = self.get_confusion_matrix(preds, targets)\n",
    "        tp = torch.diagonal(conf, dim1=-2, dim2=-1).sum(dim=0)\n",
    "        fp = (torch.sum(conf, dim=-1) - tp).sum(dim=0)\n",
    "        fn = (torch.sum(conf, dim=-2) - tp).sum(dim=0)\n",
    "            \n",
    "        return torch.nan_to_num(self._get_score(tp,fp,fn), 1)\n",
    "    \n",
    "    def micro(self, preds=None, targets=None):\n",
    "        conf = self.get_confusion_matrix(preds, targets)\n",
    "        tp = torch.diagonal(conf, dim1=-2, dim2=-1)\n",
    "        fp = (torch.sum(conf, dim=-1) - tp)[:,1:].sum()\n",
    "        fn = (torch.sum(conf, dim=-2) - tp)[:,1:].sum()\n",
    "        tp = tp[:,1:].sum()\n",
    "            \n",
    "        return torch.nan_to_num(self._get_score(tp,fp,fn), 1).item()\n",
    "\n",
    "\n",
    "    def _get_score(self, tp, fp, fn):\n",
    "        if self.metric == 'dice':\n",
    "            score = 2*tp / (2*tp + fp + fn)\n",
    "\n",
    "        elif self.metric == 'iou':\n",
    "            score = tp / (tp + fp + fn)\n",
    "        \n",
    "        elif self.metric == 'accuracy':\n",
    "            score = tp / (tp + fp)\n",
    "            \n",
    "        return score"
   ]
  },
  {
   "cell_type": "code",
   "execution_count": 30,
   "id": "cc014ad2",
   "metadata": {},
   "outputs": [],
   "source": [
    "metrics = Metrics(num_classes=8)\n",
    "for _ in range(14):\n",
    "    preds = torch.randint(0,8,(1,1000,1000))\n",
    "    targets = torch.randint(0,8,(1,1000,1000))\n",
    "    metrics.add_to_confusion_matrix(preds, targets)"
   ]
  },
  {
   "cell_type": "code",
   "execution_count": 41,
   "id": "eca83e17",
   "metadata": {},
   "outputs": [
    {
     "data": {
      "text/plain": [
       "tensor([[10782481,      154,   170986,    10607,   448677,   230601,    38076,\n",
       "                0]])"
      ]
     },
     "execution_count": 41,
     "metadata": {},
     "output_type": "execute_result"
    }
   ],
   "source": [
    "a = torch.tensor([[[10782481,      679,    40832,    61909,   228086,   120091,    21495,\n",
    "               730],\n",
    "         [   28594,      154,    18388,       33,     3295,    21984,        0,\n",
    "                 0],\n",
    "         [   65064,       19,   170986,       94,    21471,    41892,        8,\n",
    "                 0],\n",
    "         [  146078,       40,     7141,    10607,    51881,     4913,        0,\n",
    "                 0],\n",
    "         [  750121,      506,    36937,    10215,   448677,    36089,        8,\n",
    "                 0],\n",
    "         [  339919,      173,    50220,      597,    25641,   230601,      645,\n",
    "                 0],\n",
    "         [  114539,        9,     2121,        4,      208,    44541,    38076,\n",
    "                 0],\n",
    "         [   12433,        1,     1100,       47,       86,     6680,      861,\n",
    "                 0]]])\n",
    "\n",
    "tp = torch.diagonal(a, dim1=-2, dim2=-1)\n",
    "fp = (torch.sum(a, dim=-1) - tp)[:,1:].sum()\n",
    "fn = (torch.sum(a, dim=-2) - tp)[:,1:].sum()\n",
    "#tp = tp[:,1:].sum()\n",
    "tp"
   ]
  }
 ],
 "metadata": {
  "kernelspec": {
   "display_name": "base",
   "language": "python",
   "name": "python3"
  },
  "language_info": {
   "codemirror_mode": {
    "name": "ipython",
    "version": 3
   },
   "file_extension": ".py",
   "mimetype": "text/x-python",
   "name": "python",
   "nbconvert_exporter": "python",
   "pygments_lexer": "ipython3",
   "version": "3.9.12"
  }
 },
 "nbformat": 4,
 "nbformat_minor": 5
}
