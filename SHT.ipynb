{
 "cells": [
  {
   "cell_type": "code",
   "execution_count": 13,
   "id": "ef994057",
   "metadata": {},
   "outputs": [],
   "source": [
    "import torch\n",
    "import pyshtools\n",
    "from scipy.special import sph_harm\n",
    "from math import sqrt"
   ]
  },
  {
   "cell_type": "code",
   "execution_count": 14,
   "id": "18e08e12",
   "metadata": {},
   "outputs": [],
   "source": [
    "n_angle = 80\n",
    "freq_cutoff = 10\n",
    "f = torch.zeros(n_angle, n_angle)\n",
    "FT = [torch.zeros(2*l + 1, n_angle * n_angle, dtype=torch.cfloat) for l in range(freq_cutoff + 1)]\n",
    "index = 0\n",
    "\n",
    "for theta in range(n_angle):\n",
    "    for phi in range(n_angle):\n",
    "        torch.zero_(f)\n",
    "        f[theta, phi] = 1\n",
    "\n",
    "        sh_transform = torch.from_numpy(pyshtools.expand.SHExpandDHC(f))\n",
    "        sh_transform = torch.hstack((torch.fliplr(sh_transform[1])[:, :-1], sh_transform[0]))\n",
    "\n",
    "        for l in range(freq_cutoff+1):\n",
    "            FT[l][:, index] = sh_transform[l,((n_angle//2 -1) - l):((n_angle//2 -1) + l + 1)]\n",
    "        index += 1"
   ]
  },
  {
   "cell_type": "markdown",
   "id": "0729f92d",
   "metadata": {},
   "source": [
    "\\begin{align*}\n",
    "   \\sum_{\\theta, \\phi} f(\\theta, \\phi)\\text{FT}[\\ell](\\theta, \\phi)\n",
    " =& \\frac{1}{4\\pi}\\sum_{\\theta, \\phi} f(\\theta, \\phi) Y^{(\\ell)}(\\theta, \\phi)\\left(\\frac{8\\pi}{n_a^2}\\sin \\theta\\sum_{k=0}^{\\frac{n_a}{2}-1}\\frac{\\sin((2k+1)\\theta)}{2k+1}\\right)\\\\\n",
    " =& \\frac{1}{4\\pi}\\frac{2\\pi^2}{n_a^2} \\sum_{\\theta, \\phi} f(\\theta, \\phi) Y^{(\\ell)}(\\theta, \\phi) \\sin \\theta\\left(\\frac{4}{\\pi}\\sum_{k=0}^{\\frac{n_a}{2}-1}\\frac{\\sin((2k+1)\\theta)}{2k+1}\\right)\\\\\n",
    " =& \\frac{\\pi}{2 n_a^2} \\sum_{\\theta, \\phi} f(\\theta, \\phi) Y^{(\\ell)}(\\theta, \\phi) \\sin \\theta\\left(\\frac{4}{\\pi}\\sum_{k=0}^{\\frac{n_a}{2}-1}\\frac{\\sin((2k+1)\\theta)}{2k+1}\\right)\\\\\n",
    " =& \\frac{\\pi}{2n_a^2} \\sum_{\\theta, \\phi} f(\\theta, \\phi)\\text{SHT}[\\ell](\\theta, \\phi)\n",
    "\\end{align*}"
   ]
  },
  {
   "cell_type": "code",
   "execution_count": 16,
   "id": "66633269",
   "metadata": {},
   "outputs": [
    {
     "name": "stdout",
     "output_type": "stream",
     "text": [
      "tensor(1.6007e-10)\n",
      "tensor(2.2165e-10)\n",
      "tensor(3.6814e-10)\n",
      "tensor(5.7050e-10)\n",
      "tensor(7.8725e-10)\n",
      "tensor(1.0090e-09)\n",
      "tensor(1.2996e-09)\n",
      "tensor(1.5390e-09)\n",
      "tensor(1.7812e-09)\n",
      "tensor(2.0580e-09)\n"
     ]
    }
   ],
   "source": [
    "theta, phi = torch.meshgrid(torch.pi * (torch.arange(n_angle)) / n_angle, (2 * torch.pi * (torch.arange(n_angle)) / n_angle) , indexing='ij')\n",
    "factor = (2*torch.arange(n_angle//2) + 1)\n",
    "quadrature = torch.sin(theta) * (4*torch.sin(factor*theta.unsqueeze(-1)) / factor).sum(dim=-1)/torch.pi\n",
    "SHT = [torch.stack([torch.from_numpy(sph_harm(m, l, phi.numpy(), theta.numpy())).type(torch.cfloat) * quadrature * sqrt(4*torch.pi) * (-1) ** m # Phase\n",
    "                    for m in range(-l, l+1)], dim=0).flatten(1)\n",
    "        for l in range(freq_cutoff + 1)]\n",
    "\n",
    "for l in range(freq_cutoff):\n",
    "    print((torch.conj(FT[l])  - SHT[l] * torch.pi/(2*n_angle**2)).abs().max())\n"
   ]
  },
  {
   "cell_type": "code",
   "execution_count": 4,
   "id": "ec6cd40e",
   "metadata": {},
   "outputs": [],
   "source": [
    "kernel_size = [5,5]\n",
    "n_radius = 3\n",
    "n_angle = 100\n",
    "interpolation_type = 1\n",
    "freq_cutoff = 4\n",
    "import torch\n",
    "from Steerable.nn import get_interpolation_matrix, get_SHT_matrix\n",
    "\n",
    "R = [(kernel_size[d] - 1) / 2 for d in range(len(kernel_size))]\n",
    "r = torch.vstack([torch.arange(R[i] / (n_radius+1), R[i], R[i] / (n_radius+1))[:n_radius] for i in range(len(kernel_size))])\n",
    "tau_r = torch.prod(r, dim=0)**((len(kernel_size)-1)/len(kernel_size))\n",
    "SHT = get_SHT_matrix(n_angle, freq_cutoff, len(kernel_size)) # Spherical Harmonic Transform Matrix\n",
    "if len(kernel_size) == 2:\n",
    "    I = get_interpolation_matrix(kernel_size, n_radius, n_angle, interpolation_type).type(torch.cfloat) # Interpolation Matrix\n",
    "    Fint = torch.einsum('r, mt, rtxy -> mrxy', tau_r, SHT, I)\n",
    "elif len(kernel_size) == 3:\n",
    "    I = get_interpolation_matrix((kernel_size[2], kernel_size[0], kernel_size[1]), n_radius, n_angle, interpolation_type).type(torch.cfloat) # Interpolation Matrix\n",
    "    I = torch.permute(I, (0,1,3,4,2))\n",
    "    Fint = [torch.einsum('r, lt, rtxyz -> lrxyz', tau_r, SHT[l], I) for l in range(freq_cutoff+1)] # Fint Matrix"
   ]
  },
  {
   "cell_type": "code",
   "execution_count": 9,
   "id": "4787c9a5",
   "metadata": {},
   "outputs": [
    {
     "data": {
      "text/plain": [
       "tensor([0.0000, 0.5000, 1.0000, 1.5000])"
      ]
     },
     "execution_count": 9,
     "metadata": {},
     "output_type": "execute_result"
    }
   ],
   "source": [
    "tau_r"
   ]
  },
  {
   "cell_type": "code",
   "execution_count": 10,
   "id": "f475ed8d",
   "metadata": {},
   "outputs": [],
   "source": [
    "R = torch.prod(torch.tensor([(kernel_size[i] - 1) / 2 for i in range(len(kernel_size))])) ** (1/len(kernel_size))\n",
    "tau_r = (torch.arange(1,n_radius+1) * R / (n_radius+1)) ** (len(kernel_size)-1)\n",
    "SHT = get_SHT_matrix(n_angle, freq_cutoff, len(kernel_size)) # Spherical Harmonic Transform Matrix\n",
    "if len(kernel_size) == 2:\n",
    "    I = get_interpolation_matrix(kernel_size, n_radius, n_angle, interpolation_type).type(torch.cfloat) # Interpolation Matrix\n",
    "    Fint1 = torch.einsum('r, mt, rtxy -> mrxy', tau_r, SHT, I)\n",
    "elif len(kernel_size) == 3:\n",
    "    I = get_interpolation_matrix((kernel_size[2], kernel_size[0], kernel_size[1]), n_radius, n_angle, interpolation_type).type(torch.cfloat) # Interpolation Matrix\n",
    "    I = torch.permute(I, (0,1,3,4,2))\n",
    "    Fint = [torch.einsum('r, lt, rtxyz -> lrxyz', tau_r, SHT[l], I) for l in range(freq_cutoff+1)] # Fint Matrix"
   ]
  },
  {
   "cell_type": "code",
   "execution_count": 12,
   "id": "e9c06f66",
   "metadata": {},
   "outputs": [
    {
     "data": {
      "text/plain": [
       "tensor(0.)"
      ]
     },
     "execution_count": 12,
     "metadata": {},
     "output_type": "execute_result"
    }
   ],
   "source": [
    "(Fint - Fint1).abs().max()"
   ]
  }
 ],
 "metadata": {
  "kernelspec": {
   "display_name": "base",
   "language": "python",
   "name": "python3"
  },
  "language_info": {
   "codemirror_mode": {
    "name": "ipython",
    "version": 3
   },
   "file_extension": ".py",
   "mimetype": "text/x-python",
   "name": "python",
   "nbconvert_exporter": "python",
   "pygments_lexer": "ipython3",
   "version": "3.9.12"
  }
 },
 "nbformat": 4,
 "nbformat_minor": 5
}
