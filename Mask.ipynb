{
 "cells": [
  {
   "cell_type": "code",
   "execution_count": null,
   "id": "69457192",
   "metadata": {},
   "outputs": [],
   "source": [
    "import torch\n",
    "\n",
    "class MaskTransformer(torch.nn.Module):\n",
    "    def __init__(\n",
    "        self,n_cls,patch_size,d_encoder,n_layers,n_heads,d_model,d_ff,drop_path_rate,dropout):\n",
    "        super().__init__()\n",
    "        self.d_encoder = d_encoder\n",
    "        self.patch_size = patch_size\n",
    "        self.n_layers = n_layers\n",
    "        self.n_cls = n_cls\n",
    "        self.d_model = d_model\n",
    "        self.d_ff = d_ff\n",
    "\n",
    "        self.cls_emb = torch.nn.Parameter(torch.randn(1, n_cls, d_model))\n",
    "\n",
    "        self.proj_patch = torch.nn.Parameter(torch.randn(d_model, d_model))\n",
    "        self.proj_classes = torch.nn.Parameter(torch.randn(d_model, d_model))\n",
    "\n",
    "        self.decoder_norm = torch.nn.LayerNorm(d_model)\n",
    "        self.mask_norm = torch.nn.LayerNorm(n_cls)\n",
    "\n",
    "    def forward(self, x):\n",
    "        cls_emb = self.cls_emb.expand(x.size(0), -1, -1)\n",
    "        x = torch.cat([x, cls_emb], dim=1)\n",
    "        x = self.transformer(x)\n",
    "\n",
    "        patches, cls_seg_feat = x[:, : -self.n_cls], x[:, -self.n_cls :]\n",
    "\n",
    "        patches = patches / patches.norm(dim=-1, keepdim=True)\n",
    "        cls_seg_feat = cls_seg_feat / cls_seg_feat.norm(dim=-1, keepdim=True)"
   ]
  }
 ],
 "metadata": {
  "language_info": {
   "name": "python"
  }
 },
 "nbformat": 4,
 "nbformat_minor": 5
}
