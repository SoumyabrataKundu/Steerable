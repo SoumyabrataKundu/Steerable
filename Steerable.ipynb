{
 "cells": [
  {
   "cell_type": "code",
   "execution_count": 1,
   "metadata": {},
   "outputs": [],
   "source": [
    "import torch\n",
    "import torch.nn as nn\n",
    "import torchvision\n",
    "import torchvision.transforms as transforms\n",
    "import matplotlib.pyplot as plt\n",
    "import Steerable.nn as snn"
   ]
  },
  {
   "cell_type": "markdown",
   "metadata": {},
   "source": [
    "# Two Dimension"
   ]
  },
  {
   "cell_type": "markdown",
   "metadata": {},
   "source": [
    "## Model"
   ]
  },
  {
   "cell_type": "code",
   "execution_count": 2,
   "metadata": {},
   "outputs": [],
   "source": [
    "device = torch.device('cuda')\n",
    "class Model(torch.nn.Module):\n",
    "    def __init__(self) -> None:\n",
    "        super().__init__()\n",
    "        n_radius = 2\n",
    "        max_m = 8\n",
    "        n_theta = 40\n",
    "        restricted = True\n",
    "        conv_first = True\n",
    "        \n",
    "        self.network = nn.Sequential(\n",
    "            snn.SE2ConvType1(1, 2, 3, n_radius=n_radius, n_theta=n_theta, max_m=max_m, padding='same', conv_first = conv_first),\n",
    "            snn.SE2NonLinearity(8),\n",
    "            snn.SE2ConvType2(2, 2, 3, n_radius=n_radius, n_theta=n_theta, max_m=max_m, padding='same', restricted=restricted, conv_first = conv_first),\n",
    "            snn.SE2BatchNorm(),\n",
    "            \n",
    "            snn.SE2AvgPool(4),\n",
    "            snn.SE2TransformerEncoder(2, 2, 8, 2, add_pos_enc=True),\n",
    "            snn.SE2TransformerDecoder(2,1,max_m,2,1,add_pos_enc=True),\n",
    "        )\n",
    "        \n",
    "        self.flatten = snn.SE2NormFlatten()\n",
    "    \n",
    "    def forward(self,x):\n",
    "        x, _ = self.network(x.type(torch.cfloat))\n",
    "        return self.flatten(x)\n",
    "        "
   ]
  },
  {
   "cell_type": "markdown",
   "metadata": {},
   "source": [
    "## Dataset"
   ]
  },
  {
   "cell_type": "code",
   "execution_count": 3,
   "metadata": {},
   "outputs": [],
   "source": [
    "transformations = transforms.Compose([\n",
    "    transforms.ToTensor(),\n",
    "    transforms.Normalize(0,1)\n",
    "])\n",
    "dataset = torchvision.datasets.MNIST('../Steerable Transformer/Codes/data', train=True, transform=transformations)"
   ]
  },
  {
   "cell_type": "markdown",
   "metadata": {},
   "source": [
    "## Check Equivariance"
   ]
  },
  {
   "cell_type": "code",
   "execution_count": 4,
   "metadata": {},
   "outputs": [
    {
     "name": "stdout",
     "output_type": "stream",
     "text": [
      "10 / 10\r"
     ]
    },
    {
     "data": {
      "image/png": "[encoded data removed]",
      "text/plain": [
       "<Figure size 432x288 with 1 Axes>"
      ]
     },
     "metadata": {
      "needs_background": "light"
     },
     "output_type": "display_data"
    }
   ],
   "source": [
    "def check_equivariance(model, dataset):\n",
    "    def diff_output(inputs1, inputs2):\n",
    "        with torch.no_grad():\n",
    "            outputs1 = model(inputs1.to(device))\n",
    "            outputs2 = model(inputs2.to(device))\n",
    "\n",
    "            return torch.max(torch.abs(outputs1 - outputs2)).item()\n",
    "        \n",
    "    n_sim = 10\n",
    "    degrees = torch.arange(0, 360, 10)\n",
    "    values = torch.zeros(2, len(degrees))\n",
    "    \n",
    "    for sim in range(n_sim):\n",
    "        inputs = dataset[torch.randint(0,len(dataset), (1,)).item()][0].unsqueeze(0)\n",
    "        for i, degree in enumerate(degrees):\n",
    "            inputs_rot = snn.rotate_2D_image(inputs, degree)\n",
    "            input_random = dataset[torch.randint(0,len(dataset), (1,)).item()][0].unsqueeze(0)\n",
    "            values[0, i] += diff_output(inputs, inputs_rot)\n",
    "            values[1, i] += diff_output(inputs, input_random)\n",
    "            \n",
    "        print(f'{sim+1} / {n_sim}', end='\\r')\n",
    "        \n",
    "    values = values / len(degrees)\n",
    "    plt.plot(degrees, values[0])\n",
    "    plt.plot(degrees, values[1])\n",
    "    plt.show()\n",
    "    \n",
    "model = Model().to(device)\n",
    "check_equivariance(model, dataset)"
   ]
  },
  {
   "cell_type": "markdown",
   "metadata": {},
   "source": [
    "## Time Comparison"
   ]
  },
  {
   "cell_type": "code",
   "execution_count": 5,
   "metadata": {},
   "outputs": [],
   "source": [
    "#! python time_compare.py --mode='2d'"
   ]
  },
  {
   "cell_type": "markdown",
   "metadata": {},
   "source": [
    "# Three Dimension"
   ]
  },
  {
   "cell_type": "markdown",
   "metadata": {},
   "source": [
    "## Model"
   ]
  },
  {
   "cell_type": "code",
   "execution_count": 5,
   "metadata": {},
   "outputs": [],
   "source": [
    "device = torch.device('cuda')\n",
    "class Model(torch.nn.Module):\n",
    "    def __init__(self) -> None:\n",
    "        super().__init__()\n",
    "        n_radius = 2\n",
    "        n_theta = 40\n",
    "        restricted = True\n",
    "        conv_first = True\n",
    "        \n",
    "        self.network = nn.Sequential(\n",
    "            snn.SE3Conv(3, [2,3], 3, n_radius=n_radius, n_theta=n_theta, padding='same', restricted=restricted, conv_first=conv_first),\n",
    "            snn.SE3NormNonLinearity([2,3]),\n",
    "            snn.SE3BatchNorm(),\n",
    "            \n",
    "            snn.SE3AvgPool(4),\n",
    "            \n",
    "            snn.SE3Conv([2, 3], [4, 2, 2], 3, n_radius=n_radius, n_theta=n_theta, padding='same', restricted=restricted, conv_first=conv_first),\n",
    "            snn.SE3TransformerEncoder([4,2,2], 1, n_layers=1, add_pos_enc=True),\n",
    "            #snn.SE3LinearDecoder([4,2,2], [4,2,2]),\n",
    "            #snn.SE3TransformerDecoder([4,2,2], 1, 2, 1, add_pos_enc=True),\n",
    "        )\n",
    "        \n",
    "        self.flatten = snn.SE3NormFlatten()\n",
    "    \n",
    "    def forward(self,x):\n",
    "        x = self.network(x.type(torch.cfloat))\n",
    "        return self.flatten(x)"
   ]
  },
  {
   "cell_type": "markdown",
   "metadata": {},
   "source": [
    "## Dataset"
   ]
  },
  {
   "cell_type": "code",
   "execution_count": 6,
   "metadata": {},
   "outputs": [],
   "source": [
    "import torch\n",
    "from torch.utils.data import Dataset\n",
    "\n",
    "class GaussianDataset(Dataset):\n",
    "    def __init__(self, size, mean=0.0, std=1.0, length=1000):\n",
    "        self.mean = mean\n",
    "        self.std = std\n",
    "        self.size = size\n",
    "        self.length = length\n",
    "\n",
    "    def __len__(self):\n",
    "        return self.length\n",
    "\n",
    "    def __getitem__(self, idx):\n",
    "        # Generate a random tensor with Gaussian distribution\n",
    "        if idx >= self.length:\n",
    "            raise IndexError(f'Index{idx} out of range for dataset of length {self.length}')\n",
    "        image = torch.randn(self.size) * self.std + self.mean\n",
    "        label = 0\n",
    "        return image, label\n",
    "\n",
    "# Example usage\n",
    "dataset = GaussianDataset(size=(2, 3, 32, 32, 32))"
   ]
  },
  {
   "cell_type": "markdown",
   "metadata": {},
   "source": [
    "## Check Equivariance"
   ]
  },
  {
   "cell_type": "code",
   "execution_count": 8,
   "metadata": {},
   "outputs": [
    {
     "name": "stdout",
     "output_type": "stream",
     "text": [
      "5 / 5\r"
     ]
    },
    {
     "data": {
      "image/png": "[encoded data removed]",
      "text/plain": [
       "<Figure size 432x288 with 1 Axes>"
      ]
     },
     "metadata": {
      "needs_background": "light"
     },
     "output_type": "display_data"
    }
   ],
   "source": [
    "def check_equivariance(model, dataset):\n",
    "    def diff_output(inputs1, inputs2):\n",
    "        with torch.no_grad():\n",
    "            outputs1 = model(inputs1.to(device))\n",
    "            outputs2 = model(inputs2.to(device))\n",
    "\n",
    "            return torch.max(torch.abs(outputs1 - outputs2)).item()\n",
    "        \n",
    "    n_sim = 5\n",
    "    degrees = torch.arange(0, 360, 90)\n",
    "    values = torch.zeros(2, len(degrees))\n",
    "    \n",
    "    for sim in range(n_sim):\n",
    "        inputs = dataset[torch.randint(0,len(dataset), (1,)).item()][0]\n",
    "        for i, degree in enumerate(degrees):\n",
    "            inputs_rot = snn.rotate_3D_image(inputs, (degree, 0, 0))\n",
    "            input_random = dataset[torch.randint(0,len(dataset), (1,)).item()][0]\n",
    "            values[0, i] += diff_output(inputs, inputs_rot)\n",
    "            values[1, i] += diff_output(inputs, input_random)\n",
    "            \n",
    "        print(f'{sim+1} / {n_sim}', end='\\r')\n",
    "        \n",
    "    values = values / n_sim\n",
    "    plt.plot(degrees, values[0])\n",
    "    #plt.plot(degrees, values[1])\n",
    "    plt.show()\n",
    "    \n",
    "    \n",
    "model = Model().to(device)\n",
    "check_equivariance(model, dataset)"
   ]
  },
  {
   "cell_type": "markdown",
   "metadata": {},
   "source": [
    "## Time Comparison"
   ]
  },
  {
   "cell_type": "code",
   "execution_count": 9,
   "metadata": {},
   "outputs": [],
   "source": [
    "#! python time_compare.py --mode='3d'"
   ]
  }
 ],
 "metadata": {
  "kernelspec": {
   "display_name": "base",
   "language": "python",
   "name": "python3"
  },
  "language_info": {
   "codemirror_mode": {
    "name": "ipython",
    "version": 3
   },
   "file_extension": ".py",
   "mimetype": "text/x-python",
   "name": "python",
   "nbconvert_exporter": "python",
   "pygments_lexer": "ipython3",
   "version": "3.9.12"
  }
 },
 "nbformat": 4,
 "nbformat_minor": 2
}
